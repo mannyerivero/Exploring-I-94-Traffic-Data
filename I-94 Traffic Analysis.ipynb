{
 "cells": [
  {
   "cell_type": "markdown",
   "metadata": {},
   "source": [
    "# Indicators of Heavy Traffic on I-94\n",
    "\n",
    "In this project, we're going to analyze a dataset about the westbound traffic on the I-94 Interstate highway.\n",
    "\n",
    "The goal of our analysis is to determine a few indicators of heavy traffic on I-94. These indicators can be weather type, time of the day, time of the week, etc."
   ]
  },
  {
   "cell_type": "markdown",
   "metadata": {},
   "source": [
    "## Overview of Data"
   ]
  },
  {
   "cell_type": "code",
   "execution_count": 1,
   "metadata": {},
   "outputs": [
    {
     "data": {
      "text/html": [
       "<div>\n",
       "<style scoped>\n",
       "    .dataframe tbody tr th:only-of-type {\n",
       "        vertical-align: middle;\n",
       "    }\n",
       "\n",
       "    .dataframe tbody tr th {\n",
       "        vertical-align: top;\n",
       "    }\n",
       "\n",
       "    .dataframe thead th {\n",
       "        text-align: right;\n",
       "    }\n",
       "</style>\n",
       "<table border=\"1\" class=\"dataframe\">\n",
       "  <thead>\n",
       "    <tr style=\"text-align: right;\">\n",
       "      <th></th>\n",
       "      <th>holiday</th>\n",
       "      <th>temp</th>\n",
       "      <th>rain_1h</th>\n",
       "      <th>snow_1h</th>\n",
       "      <th>clouds_all</th>\n",
       "      <th>weather_main</th>\n",
       "      <th>weather_description</th>\n",
       "      <th>date_time</th>\n",
       "      <th>traffic_volume</th>\n",
       "    </tr>\n",
       "  </thead>\n",
       "  <tbody>\n",
       "    <tr>\n",
       "      <th>0</th>\n",
       "      <td>None</td>\n",
       "      <td>288.28</td>\n",
       "      <td>0.0</td>\n",
       "      <td>0.0</td>\n",
       "      <td>40</td>\n",
       "      <td>Clouds</td>\n",
       "      <td>scattered clouds</td>\n",
       "      <td>2012-10-02 09:00:00</td>\n",
       "      <td>5545</td>\n",
       "    </tr>\n",
       "    <tr>\n",
       "      <th>1</th>\n",
       "      <td>None</td>\n",
       "      <td>289.36</td>\n",
       "      <td>0.0</td>\n",
       "      <td>0.0</td>\n",
       "      <td>75</td>\n",
       "      <td>Clouds</td>\n",
       "      <td>broken clouds</td>\n",
       "      <td>2012-10-02 10:00:00</td>\n",
       "      <td>4516</td>\n",
       "    </tr>\n",
       "    <tr>\n",
       "      <th>2</th>\n",
       "      <td>None</td>\n",
       "      <td>289.58</td>\n",
       "      <td>0.0</td>\n",
       "      <td>0.0</td>\n",
       "      <td>90</td>\n",
       "      <td>Clouds</td>\n",
       "      <td>overcast clouds</td>\n",
       "      <td>2012-10-02 11:00:00</td>\n",
       "      <td>4767</td>\n",
       "    </tr>\n",
       "    <tr>\n",
       "      <th>3</th>\n",
       "      <td>None</td>\n",
       "      <td>290.13</td>\n",
       "      <td>0.0</td>\n",
       "      <td>0.0</td>\n",
       "      <td>90</td>\n",
       "      <td>Clouds</td>\n",
       "      <td>overcast clouds</td>\n",
       "      <td>2012-10-02 12:00:00</td>\n",
       "      <td>5026</td>\n",
       "    </tr>\n",
       "    <tr>\n",
       "      <th>4</th>\n",
       "      <td>None</td>\n",
       "      <td>291.14</td>\n",
       "      <td>0.0</td>\n",
       "      <td>0.0</td>\n",
       "      <td>75</td>\n",
       "      <td>Clouds</td>\n",
       "      <td>broken clouds</td>\n",
       "      <td>2012-10-02 13:00:00</td>\n",
       "      <td>4918</td>\n",
       "    </tr>\n",
       "  </tbody>\n",
       "</table>\n",
       "</div>"
      ],
      "text/plain": [
       "  holiday    temp  rain_1h  snow_1h  clouds_all weather_main  \\\n",
       "0    None  288.28      0.0      0.0          40       Clouds   \n",
       "1    None  289.36      0.0      0.0          75       Clouds   \n",
       "2    None  289.58      0.0      0.0          90       Clouds   \n",
       "3    None  290.13      0.0      0.0          90       Clouds   \n",
       "4    None  291.14      0.0      0.0          75       Clouds   \n",
       "\n",
       "  weather_description            date_time  traffic_volume  \n",
       "0    scattered clouds  2012-10-02 09:00:00            5545  \n",
       "1       broken clouds  2012-10-02 10:00:00            4516  \n",
       "2     overcast clouds  2012-10-02 11:00:00            4767  \n",
       "3     overcast clouds  2012-10-02 12:00:00            5026  \n",
       "4       broken clouds  2012-10-02 13:00:00            4918  "
      ]
     },
     "execution_count": 1,
     "metadata": {},
     "output_type": "execute_result"
    }
   ],
   "source": [
    "import pandas as pd\n",
    "\n",
    "i_94 = pd.read_csv('Metro_Interstate_Traffic_Volume.csv.gz')\n",
    "i_94.head()"
   ]
  },
  {
   "cell_type": "code",
   "execution_count": 2,
   "metadata": {},
   "outputs": [
    {
     "data": {
      "text/html": [
       "<div>\n",
       "<style scoped>\n",
       "    .dataframe tbody tr th:only-of-type {\n",
       "        vertical-align: middle;\n",
       "    }\n",
       "\n",
       "    .dataframe tbody tr th {\n",
       "        vertical-align: top;\n",
       "    }\n",
       "\n",
       "    .dataframe thead th {\n",
       "        text-align: right;\n",
       "    }\n",
       "</style>\n",
       "<table border=\"1\" class=\"dataframe\">\n",
       "  <thead>\n",
       "    <tr style=\"text-align: right;\">\n",
       "      <th></th>\n",
       "      <th>holiday</th>\n",
       "      <th>temp</th>\n",
       "      <th>rain_1h</th>\n",
       "      <th>snow_1h</th>\n",
       "      <th>clouds_all</th>\n",
       "      <th>weather_main</th>\n",
       "      <th>weather_description</th>\n",
       "      <th>date_time</th>\n",
       "      <th>traffic_volume</th>\n",
       "    </tr>\n",
       "  </thead>\n",
       "  <tbody>\n",
       "    <tr>\n",
       "      <th>48199</th>\n",
       "      <td>None</td>\n",
       "      <td>283.45</td>\n",
       "      <td>0.0</td>\n",
       "      <td>0.0</td>\n",
       "      <td>75</td>\n",
       "      <td>Clouds</td>\n",
       "      <td>broken clouds</td>\n",
       "      <td>2018-09-30 19:00:00</td>\n",
       "      <td>3543</td>\n",
       "    </tr>\n",
       "    <tr>\n",
       "      <th>48200</th>\n",
       "      <td>None</td>\n",
       "      <td>282.76</td>\n",
       "      <td>0.0</td>\n",
       "      <td>0.0</td>\n",
       "      <td>90</td>\n",
       "      <td>Clouds</td>\n",
       "      <td>overcast clouds</td>\n",
       "      <td>2018-09-30 20:00:00</td>\n",
       "      <td>2781</td>\n",
       "    </tr>\n",
       "    <tr>\n",
       "      <th>48201</th>\n",
       "      <td>None</td>\n",
       "      <td>282.73</td>\n",
       "      <td>0.0</td>\n",
       "      <td>0.0</td>\n",
       "      <td>90</td>\n",
       "      <td>Thunderstorm</td>\n",
       "      <td>proximity thunderstorm</td>\n",
       "      <td>2018-09-30 21:00:00</td>\n",
       "      <td>2159</td>\n",
       "    </tr>\n",
       "    <tr>\n",
       "      <th>48202</th>\n",
       "      <td>None</td>\n",
       "      <td>282.09</td>\n",
       "      <td>0.0</td>\n",
       "      <td>0.0</td>\n",
       "      <td>90</td>\n",
       "      <td>Clouds</td>\n",
       "      <td>overcast clouds</td>\n",
       "      <td>2018-09-30 22:00:00</td>\n",
       "      <td>1450</td>\n",
       "    </tr>\n",
       "    <tr>\n",
       "      <th>48203</th>\n",
       "      <td>None</td>\n",
       "      <td>282.12</td>\n",
       "      <td>0.0</td>\n",
       "      <td>0.0</td>\n",
       "      <td>90</td>\n",
       "      <td>Clouds</td>\n",
       "      <td>overcast clouds</td>\n",
       "      <td>2018-09-30 23:00:00</td>\n",
       "      <td>954</td>\n",
       "    </tr>\n",
       "  </tbody>\n",
       "</table>\n",
       "</div>"
      ],
      "text/plain": [
       "      holiday    temp  rain_1h  snow_1h  clouds_all  weather_main  \\\n",
       "48199    None  283.45      0.0      0.0          75        Clouds   \n",
       "48200    None  282.76      0.0      0.0          90        Clouds   \n",
       "48201    None  282.73      0.0      0.0          90  Thunderstorm   \n",
       "48202    None  282.09      0.0      0.0          90        Clouds   \n",
       "48203    None  282.12      0.0      0.0          90        Clouds   \n",
       "\n",
       "          weather_description            date_time  traffic_volume  \n",
       "48199           broken clouds  2018-09-30 19:00:00            3543  \n",
       "48200         overcast clouds  2018-09-30 20:00:00            2781  \n",
       "48201  proximity thunderstorm  2018-09-30 21:00:00            2159  \n",
       "48202         overcast clouds  2018-09-30 22:00:00            1450  \n",
       "48203         overcast clouds  2018-09-30 23:00:00             954  "
      ]
     },
     "execution_count": 2,
     "metadata": {},
     "output_type": "execute_result"
    }
   ],
   "source": [
    "i_94.tail()"
   ]
  },
  {
   "cell_type": "markdown",
   "metadata": {
    "tags": []
   },
   "source": [
    "### Info on Dataframe"
   ]
  },
  {
   "cell_type": "code",
   "execution_count": 3,
   "metadata": {},
   "outputs": [
    {
     "name": "stdout",
     "output_type": "stream",
     "text": [
      "<class 'pandas.core.frame.DataFrame'>\n",
      "RangeIndex: 48204 entries, 0 to 48203\n",
      "Data columns (total 9 columns):\n",
      " #   Column               Non-Null Count  Dtype  \n",
      "---  ------               --------------  -----  \n",
      " 0   holiday              48204 non-null  object \n",
      " 1   temp                 48204 non-null  float64\n",
      " 2   rain_1h              48204 non-null  float64\n",
      " 3   snow_1h              48204 non-null  float64\n",
      " 4   clouds_all           48204 non-null  int64  \n",
      " 5   weather_main         48204 non-null  object \n",
      " 6   weather_description  48204 non-null  object \n",
      " 7   date_time            48204 non-null  object \n",
      " 8   traffic_volume       48204 non-null  int64  \n",
      "dtypes: float64(3), int64(2), object(4)\n",
      "memory usage: 3.3+ MB\n"
     ]
    }
   ],
   "source": [
    "i_94.info()"
   ]
  },
  {
   "cell_type": "markdown",
   "metadata": {},
   "source": [
    "The cell above is a `Pandas` method that allows to examine some descriptive information at a high level about the dataset we are reviewing. For example, you can note the number of columns that dataset has with the column names right next to the column index. There are 9 columns in this dataset. Remember, we start counting at 0 in Computer Science. There are also 48,204 rows. Entries stand for rows when using this function.\n"
   ]
  },
  {
   "cell_type": "markdown",
   "metadata": {},
   "source": [
    "### Frequency Distribution Histogram"
   ]
  },
  {
   "cell_type": "code",
   "execution_count": 4,
   "metadata": {},
   "outputs": [],
   "source": [
    "import matplotlib.pyplot as plt\n",
    "%matplotlib inline"
   ]
  },
  {
   "cell_type": "code",
   "execution_count": 5,
   "metadata": {},
   "outputs": [
    {
     "data": {
      "image/png": "[encoded data removed]",
      "text/plain": [
       "<Figure size 432x288 with 1 Axes>"
      ]
     },
     "metadata": {
      "needs_background": "light"
     },
     "output_type": "display_data"
    }
   ],
   "source": [
    "i_94['traffic_volume'].plot.hist()\n",
    "plt.show()"
   ]
  },
  {
   "cell_type": "markdown",
   "metadata": {},
   "source": [
    "The histogram above details the frequency distribution of the `traffic_volume` column in the dataset. For example, if we look to the far right, we see a small bar right above the number 7,000. If we keep our eyes on the height of that bar and then scan to the far left, we see the number 1,000 on the y-axis (Frequency axis). In essence, traffic volume got up to 7,000 vehicles approximately 1,000 times over the span of time the creators of this dataset examined."
   ]
  },
  {
   "cell_type": "markdown",
   "metadata": {},
   "source": [
    "### Traffic Volume Descriptive Statistics"
   ]
  },
  {
   "cell_type": "code",
   "execution_count": 6,
   "metadata": {},
   "outputs": [
    {
     "name": "stdout",
     "output_type": "stream",
     "text": [
      "count    48204.000000\n",
      "mean      3259.818355\n",
      "std       1986.860670\n",
      "min          0.000000\n",
      "25%       1193.000000\n",
      "50%       3380.000000\n",
      "75%       4933.000000\n",
      "max       7280.000000\n",
      "Name: traffic_volume, dtype: float64\n"
     ]
    }
   ],
   "source": [
    "print(i_94['traffic_volume'].describe())"
   ]
  },
  {
   "cell_type": "markdown",
   "metadata": {},
   "source": [
    "The function above gives us a quick table of descriptive statistics about a column or row of data. For example, the average, or mean, amount of traffic volume was 3259.818355, the max amount was 7280.000000, and the minimum amount was 0.000000. What can we deduce from this? Clearly there was a time when there was no traffic on the road for the stretch of interstate that has been examined in this dataset. The most likely conclusion is that this was at night. It would seem implausible to assume this happened at anypoint during daylight hours. "
   ]
  },
  {
   "cell_type": "markdown",
   "metadata": {},
   "source": [
    "***"
   ]
  },
  {
   "cell_type": "markdown",
   "metadata": {},
   "source": [
    "# Main Analysis: Patterns and Influential Factors on Traffic\n",
    "\n",
    "## Nighttime and Daytime"
   ]
  },
  {
   "cell_type": "code",
   "execution_count": 7,
   "metadata": {},
   "outputs": [
    {
     "name": "stdout",
     "output_type": "stream",
     "text": [
      "(23877, 9)\n",
      "(24327, 9)\n"
     ]
    }
   ],
   "source": [
    "i_94['date_time'] = pd.to_datetime(i_94['date_time'])\n",
    "\n",
    "day = i_94.copy()[(i_94['date_time'].dt.hour >= 7) & (i_94['date_time'].dt.hour < 19)]\n",
    "print(day.shape)\n",
    "\n",
    "night = i_94.copy()[(i_94['date_time'].dt.hour >= 19) | (i_94['date_time'].dt.hour < 7)]\n",
    "print(night.shape)"
   ]
  },
  {
   "cell_type": "markdown",
   "metadata": {},
   "source": [
    "We want to see how nighttime and daytime might influence traffic volume. In order to do this, in the code cell above we needed to convert the `date_time` column to an actual datetime type and then using boolean expressions, split up the column into 2 seperate lists of data: \n",
    "\n",
    "* Daytime data: hours from 7 a.m. to 7 p.m. (12 hours)\n",
    "* Nighttime data: hours from 7 p.m. to 7 a.m. (12 hours)"
   ]
  },
  {
   "cell_type": "code",
   "execution_count": 8,
   "metadata": {},
   "outputs": [
    {
     "data": {
      "image/png": "[encoded data removed]",
      "text/plain": [
       "<Figure size 792x252 with 2 Axes>"
      ]
     },
     "metadata": {
      "needs_background": "light"
     },
     "output_type": "display_data"
    }
   ],
   "source": [
    "plt.figure(figsize=(11,3.5))\n",
    "\n",
    "plt.subplot(1, 2, 1)\n",
    "plt.hist(day['traffic_volume'])\n",
    "plt.xlim(-100, 7500)\n",
    "plt.ylim(0, 8000)\n",
    "plt.title('Traffic Volume: Day')\n",
    "plt.ylabel('Frequency')\n",
    "plt.xlabel('Traffic Volume')\n",
    "\n",
    "plt.subplot(1, 2, 2)\n",
    "plt.hist(night['traffic_volume'])\n",
    "plt.xlim(-100, 7500)\n",
    "plt.ylim(0, 8000)\n",
    "plt.title('Traffic Volume: Night')\n",
    "plt.ylabel('Frequency')\n",
    "plt.xlabel('Traffic Volume')\n",
    "\n",
    "plt.show()"
   ]
  },
  {
   "cell_type": "code",
   "execution_count": 9,
   "metadata": {},
   "outputs": [
    {
     "data": {
      "text/plain": [
       "count    23877.000000\n",
       "mean      4762.047452\n",
       "std       1174.546482\n",
       "min          0.000000\n",
       "25%       4252.000000\n",
       "50%       4820.000000\n",
       "75%       5559.000000\n",
       "max       7280.000000\n",
       "Name: traffic_volume, dtype: float64"
      ]
     },
     "execution_count": 9,
     "metadata": {},
     "output_type": "execute_result"
    }
   ],
   "source": [
    "day['traffic_volume'].describe()"
   ]
  },
  {
   "cell_type": "code",
   "execution_count": 10,
   "metadata": {},
   "outputs": [
    {
     "data": {
      "text/plain": [
       "count    24327.000000\n",
       "mean      1785.377441\n",
       "std       1441.951197\n",
       "min          0.000000\n",
       "25%        530.000000\n",
       "50%       1287.000000\n",
       "75%       2819.000000\n",
       "max       6386.000000\n",
       "Name: traffic_volume, dtype: float64"
      ]
     },
     "execution_count": 10,
     "metadata": {},
     "output_type": "execute_result"
    }
   ],
   "source": [
    "night['traffic_volume'].describe()"
   ]
  },
  {
   "cell_type": "markdown",
   "metadata": {},
   "source": [
    "The histogram for the daytime traffic volumes has a left skewed distribution with the majority of the values bulking up to the right of the plot. The histogram for the nighttime traffic volumes has a right skewed distribution with the majority of the values bulking up to the left of the plot and then trending downward. Since the goal of this project is to find indicators of heavy traffic, and the traffic is light at night, we will discard the nighttime traffic from our continued analysis. "
   ]
  },
  {
   "cell_type": "markdown",
   "metadata": {},
   "source": [
    "## Month, Day, Hour"
   ]
  },
  {
   "cell_type": "code",
   "execution_count": 11,
   "metadata": {},
   "outputs": [
    {
     "data": {
      "text/plain": [
       "month\n",
       "1     4495.613727\n",
       "2     4711.198394\n",
       "3     4889.409560\n",
       "4     4906.894305\n",
       "5     4911.121609\n",
       "6     4898.019566\n",
       "7     4595.035744\n",
       "8     4928.302035\n",
       "9     4870.783145\n",
       "10    4921.234922\n",
       "11    4704.094319\n",
       "12    4374.834566\n",
       "Name: traffic_volume, dtype: float64"
      ]
     },
     "execution_count": 11,
     "metadata": {},
     "output_type": "execute_result"
    }
   ],
   "source": [
    "day['month'] = day['date_time'].dt.month\n",
    "by_month = day.groupby('month').mean()\n",
    "by_month['traffic_volume']"
   ]
  },
  {
   "cell_type": "code",
   "execution_count": 12,
   "metadata": {},
   "outputs": [
    {
     "data": {
      "image/png": "[encoded data removed]",
      "text/plain": [
       "<Figure size 432x288 with 1 Axes>"
      ]
     },
     "metadata": {
      "needs_background": "light"
     },
     "output_type": "display_data"
    }
   ],
   "source": [
    "plt.plot(by_month['traffic_volume'])\n",
    "plt.title('Daytime Traffic Volume by Monthly Average')\n",
    "plt.show()"
   ]
  },
  {
   "cell_type": "code",
   "execution_count": 13,
   "metadata": {},
   "outputs": [
    {
     "data": {
      "text/plain": [
       "dayofweek\n",
       "0    4893.551286\n",
       "1    5189.004782\n",
       "2    5284.454282\n",
       "3    5311.303730\n",
       "4    5291.600829\n",
       "5    3927.249558\n",
       "6    3436.541789\n",
       "Name: traffic_volume, dtype: float64"
      ]
     },
     "execution_count": 13,
     "metadata": {},
     "output_type": "execute_result"
    }
   ],
   "source": [
    "day['dayofweek'] = day['date_time'].dt.dayofweek\n",
    "by_dayofweek = day.groupby('dayofweek').mean()\n",
    "by_dayofweek['traffic_volume']  # 0 is Monday, 6 is Sunday"
   ]
  },
  {
   "cell_type": "code",
   "execution_count": 14,
   "metadata": {},
   "outputs": [
    {
     "data": {
      "image/png": "[encoded data removed]",
      "text/plain": [
       "<Figure size 432x288 with 1 Axes>"
      ]
     },
     "metadata": {
      "needs_background": "light"
     },
     "output_type": "display_data"
    }
   ],
   "source": [
    "plt.plot(by_dayofweek['traffic_volume'])\n",
    "plt.title('Daytime Traffice Volume by Daily Average')\n",
    "plt.show()"
   ]
  },
  {
   "cell_type": "markdown",
   "metadata": {},
   "source": [
    "Looking at the line plot above, one can notice that there is a steep decline from the average of daily daytime traffic during business days to the average daily daytime traffice of the weekend. Next we will extract the hour from the `date_time` column, split it up by business and weekend days, then plot each group by their hourly average of traffic volume."
   ]
  },
  {
   "cell_type": "code",
   "execution_count": 15,
   "metadata": {},
   "outputs": [
    {
     "name": "stdout",
     "output_type": "stream",
     "text": [
      "hour\n",
      "7     6030.413559\n",
      "8     5503.497970\n",
      "9     4895.269257\n",
      "10    4378.419118\n",
      "11    4633.419470\n",
      "12    4855.382143\n",
      "13    4859.180473\n",
      "14    5152.995778\n",
      "15    5592.897768\n",
      "16    6189.473647\n",
      "17    5784.827133\n",
      "18    4434.209431\n",
      "Name: traffic_volume, dtype: float64\n",
      "hour\n",
      "7     1589.365894\n",
      "8     2338.578073\n",
      "9     3111.623917\n",
      "10    3686.632302\n",
      "11    4044.154955\n",
      "12    4372.482883\n",
      "13    4362.296564\n",
      "14    4358.543796\n",
      "15    4342.456881\n",
      "16    4339.693805\n",
      "17    4151.919929\n",
      "18    3811.792279\n",
      "Name: traffic_volume, dtype: float64\n"
     ]
    }
   ],
   "source": [
    "day['hour'] = day['date_time'].dt.hour\n",
    "bussiness_days = day.copy()[day['dayofweek'] <= 4] # 4 == Friday\n",
    "weekend = day.copy()[day['dayofweek'] >= 5] # 5 == Saturday\n",
    "by_hour_business = bussiness_days.groupby('hour').mean()\n",
    "by_hour_weekend = weekend.groupby('hour').mean()\n",
    "\n",
    "print(by_hour_business['traffic_volume'])\n",
    "print(by_hour_weekend['traffic_volume'])"
   ]
  },
  {
   "cell_type": "code",
   "execution_count": 16,
   "metadata": {},
   "outputs": [
    {
     "data": {
      "image/png": "[encoded data removed]",
      "text/plain": [
       "<Figure size 792x252 with 2 Axes>"
      ]
     },
     "metadata": {
      "needs_background": "light"
     },
     "output_type": "display_data"
    }
   ],
   "source": [
    "plt.figure(figsize=(11,3.5))\n",
    "\n",
    "plt.subplot(1, 2, 1)\n",
    "by_hour_business['traffic_volume'].plot.line()\n",
    "plt.xlim(6,20)\n",
    "plt.ylim(1500,6500)\n",
    "plt.title('Traffic Volume By Hour: Monday–Friday')\n",
    "\n",
    "plt.subplot(1, 2, 2)\n",
    "by_hour_weekend['traffic_volume'].plot.line()\n",
    "plt.xlim(6,20)\n",
    "plt.ylim(1500,6500)\n",
    "plt.title('Traffic Volume By Hour: Weekend')\n",
    "\n",
    "plt.show()"
   ]
  },
  {
   "cell_type": "markdown",
   "metadata": {},
   "source": [
    "At each hour of the day, the traffic volume is generally higher during business days compared to the weekends. As somehow expected, the rush hours are around 7 and 16 — when most people travel from home to work and back. We see volumes of over 6,000 cars at rush hours.\n",
    "\n",
    "To summarize, we found a few time-related indicators of heavy traffic:\n",
    "\n",
    "The traffic is usually heavier during warm months (March–October) compared to cold months (November–February).\n",
    "The traffic is usually heavier on business days compared to weekends.\n",
    "On business days, the rush hours are around 7 and 16."
   ]
  },
  {
   "cell_type": "markdown",
   "metadata": {},
   "source": [
    "## Weather"
   ]
  },
  {
   "cell_type": "code",
   "execution_count": 17,
   "metadata": {},
   "outputs": [
    {
     "data": {
      "text/plain": [
       "temp              0.128317\n",
       "rain_1h           0.003697\n",
       "snow_1h           0.001265\n",
       "clouds_all       -0.032932\n",
       "traffic_volume    1.000000\n",
       "month            -0.022337\n",
       "dayofweek        -0.416453\n",
       "hour              0.172704\n",
       "Name: traffic_volume, dtype: float64"
      ]
     },
     "execution_count": 17,
     "metadata": {},
     "output_type": "execute_result"
    }
   ],
   "source": [
    "day.corr()['traffic_volume']"
   ]
  },
  {
   "cell_type": "code",
   "execution_count": 18,
   "metadata": {},
   "outputs": [
    {
     "data": {
      "image/png": "[encoded data removed]",
      "text/plain": [
       "<Figure size 432x288 with 1 Axes>"
      ]
     },
     "metadata": {
      "needs_background": "light"
     },
     "output_type": "display_data"
    }
   ],
   "source": [
    "day.plot.scatter('traffic_volume', 'temp')\n",
    "plt.ylim(230, 320) # two wrong 0K temperatures mess up the y-axis\n",
    "plt.show()"
   ]
  },
  {
   "cell_type": "markdown",
   "metadata": {},
   "source": [
    "From observing the scatter plot above, it appears that using the weather indicator of temperature doesn't demonstrate that it is correlated to an increase in traffic volume. We will next review the weather types."
   ]
  },
  {
   "cell_type": "code",
   "execution_count": 19,
   "metadata": {},
   "outputs": [
    {
     "name": "stdout",
     "output_type": "stream",
     "text": [
      "                    temp   rain_1h   snow_1h  clouds_all  traffic_volume  \\\n",
      "weather_main                                                               \n",
      "Clear         283.812078  0.000000  0.000000    1.670265     4778.416260   \n",
      "Clouds        282.929274  0.000000  0.000000   62.667548     4865.415996   \n",
      "Drizzle       284.456433  0.170804  0.000000   84.704417     4837.212911   \n",
      "Fog           277.579641  0.163840  0.001409   65.477901     4372.491713   \n",
      "Haze          275.319353  0.040036  0.000000   64.000000     4609.893285   \n",
      "Mist          279.420825  0.249992  0.000825   74.961435     4623.976475   \n",
      "Rain          287.089601  3.972943  0.000292   75.870116     4815.568462   \n",
      "Smoke         292.405833  0.878333  0.000000   53.333333     4564.583333   \n",
      "Snow          267.984505  0.014017  0.001768   80.501376     4396.321183   \n",
      "Squall        296.730000  1.020000  0.000000   75.000000     4211.000000   \n",
      "Thunderstorm  293.364678  1.146475  0.000000   75.184035     4648.212860   \n",
      "\n",
      "                 month  dayofweek       hour  \n",
      "weather_main                                  \n",
      "Clear         6.490599   3.138928  12.404248  \n",
      "Clouds        6.393243   3.005631  12.911974  \n",
      "Drizzle       7.105323   2.934315  12.308041  \n",
      "Fog           6.646409   2.798343  10.325967  \n",
      "Haze          5.832134   2.754197  12.467626  \n",
      "Mist          6.734285   2.895102  11.078288  \n",
      "Rain          6.774023   2.914467  12.642379  \n",
      "Smoke         6.833333   2.416667  13.166667  \n",
      "Snow          6.374828   2.750344  12.153370  \n",
      "Squall        7.000000   2.000000  14.000000  \n",
      "Thunderstorm  7.108647   2.955654  12.694013  \n",
      "                                           temp      rain_1h   snow_1h  \\\n",
      "weather_description                                                      \n",
      "SQUALLS                              296.730000     1.020000  0.000000   \n",
      "Sky is Clear                         293.232549     0.000000  0.000000   \n",
      "broken clouds                        282.372927     0.000000  0.000000   \n",
      "drizzle                              283.573777     0.145072  0.000000   \n",
      "few clouds                           284.272965     0.000000  0.000000   \n",
      "fog                                  277.579641     0.163840  0.001409   \n",
      "freezing rain                        272.860000     0.000000  0.000000   \n",
      "haze                                 275.319353     0.040036  0.000000   \n",
      "heavy intensity drizzle              285.467931     0.276207  0.000000   \n",
      "heavy intensity rain                 290.231781     2.670548  0.000000   \n",
      "heavy snow                           269.256188     0.002375  0.000000   \n",
      "light intensity drizzle              284.902199     0.178848  0.000000   \n",
      "light intensity shower rain          290.563000     0.433000  0.000000   \n",
      "light rain                           286.349835     0.137147  0.000000   \n",
      "light rain and snow                  275.607500     0.317500  0.000000   \n",
      "light shower snow                    268.213636     0.000000  0.000000   \n",
      "light snow                           267.085634     0.015297  0.002106   \n",
      "mist                                 279.420825     0.249992  0.000825   \n",
      "moderate rain                        287.110124     0.572153  0.001057   \n",
      "overcast clouds                      278.802215     0.000000  0.000000   \n",
      "proximity shower rain                291.460090     0.279279  0.000000   \n",
      "proximity thunderstorm               293.552376     0.967756  0.000000   \n",
      "proximity thunderstorm with drizzle  287.913333     0.260000  0.000000   \n",
      "proximity thunderstorm with rain     291.210556     0.867222  0.000000   \n",
      "scattered clouds                     287.829086     0.000000  0.000000   \n",
      "shower drizzle                       271.330000     0.000000  0.000000   \n",
      "shower snow                          268.680000     0.000000  0.000000   \n",
      "sky is clear                         282.171390     0.000000  0.000000   \n",
      "sleet                                275.746667     0.000000  0.000000   \n",
      "smoke                                292.405833     0.878333  0.000000   \n",
      "snow                                 271.014891     0.024745  0.003723   \n",
      "thunderstorm                         295.168542     0.702083  0.000000   \n",
      "thunderstorm with drizzle            287.880000     5.345000  0.000000   \n",
      "thunderstorm with heavy rain         292.783200     3.595600  0.000000   \n",
      "thunderstorm with light drizzle      290.885000     2.635000  0.000000   \n",
      "thunderstorm with light rain         292.243478     1.190000  0.000000   \n",
      "thunderstorm with rain               293.074500     1.460000  0.000000   \n",
      "very heavy rain                      296.680000  1426.242857  0.000000   \n",
      "\n",
      "                                     clouds_all  traffic_volume     month  \\\n",
      "weather_description                                                         \n",
      "SQUALLS                               75.000000     4211.000000  7.000000   \n",
      "Sky is Clear                           0.000000     4919.009390  7.557512   \n",
      "broken clouds                         72.635875     4824.130326  6.675260   \n",
      "drizzle                               88.589928     4737.330935  7.244604   \n",
      "few clouds                            19.391951     4839.818023  6.159230   \n",
      "fog                                   65.477901     4372.491713  6.646409   \n",
      "freezing rain                         90.000000     4314.000000  6.500000   \n",
      "haze                                  64.000000     4609.893285  5.832134   \n",
      "heavy intensity drizzle               89.172414     4738.586207  7.551724   \n",
      "heavy intensity rain                  82.799087     4610.356164  7.150685   \n",
      "heavy snow                            85.287500     4411.681250  5.140625   \n",
      "light intensity drizzle               82.565445     4890.164049  7.020942   \n",
      "light intensity shower rain           88.500000     4558.100000  5.700000   \n",
      "light rain                            72.672525     4859.650849  6.610428   \n",
      "light rain and snow                   83.500000     5579.750000  7.500000   \n",
      "light shower snow                     81.909091     4618.636364  9.545455   \n",
      "light snow                            77.714724     4430.858896  6.734151   \n",
      "mist                                  74.961435     4623.976475  6.734285   \n",
      "moderate rain                         80.591083     4769.643312  7.008917   \n",
      "overcast clouds                       90.120696     4861.124952  6.078143   \n",
      "proximity shower rain                 78.108108     4901.756757  6.972973   \n",
      "proximity thunderstorm                73.511551     4684.356436  7.118812   \n",
      "proximity thunderstorm with drizzle   87.833333     5121.833333  8.500000   \n",
      "proximity thunderstorm with rain      82.666667     4501.611111  6.944444   \n",
      "scattered clouds                      40.043099     4936.787712  6.528198   \n",
      "shower drizzle                        90.000000     4932.666667  6.000000   \n",
      "shower snow                           90.000000     5664.000000  3.000000   \n",
      "sky is clear                           1.961161     4753.930294  6.304783   \n",
      "sleet                                 90.000000     4312.666667  7.000000   \n",
      "smoke                                 53.333333     4564.583333  6.833333   \n",
      "snow                                  88.737226     4054.065693  6.416058   \n",
      "thunderstorm                          71.437500     4724.708333  7.166667   \n",
      "thunderstorm with drizzle             90.000000     2297.000000  9.000000   \n",
      "thunderstorm with heavy rain          82.480000     4555.760000  6.600000   \n",
      "thunderstorm with light drizzle       90.000000     4960.000000  8.000000   \n",
      "thunderstorm with light rain          76.565217     4336.130435  6.826087   \n",
      "thunderstorm with rain                82.350000     4522.950000  7.050000   \n",
      "very heavy rain                       51.857143     4780.571429  7.000000   \n",
      "\n",
      "                                     dayofweek       hour  \n",
      "weather_description                                        \n",
      "SQUALLS                               2.000000  14.000000  \n",
      "Sky is Clear                          2.895540  12.453052  \n",
      "broken clouds                         2.998210  12.811314  \n",
      "drizzle                               3.028777  11.697842  \n",
      "few clouds                            2.977253  12.633421  \n",
      "fog                                   2.798343  10.325967  \n",
      "freezing rain                         0.500000  13.500000  \n",
      "haze                                  2.754197  12.467626  \n",
      "heavy intensity drizzle               2.896552  12.275862  \n",
      "heavy intensity rain                  2.858447  12.442922  \n",
      "heavy snow                            2.975000  12.303125  \n",
      "light intensity drizzle               2.897033  12.612565  \n",
      "light intensity shower rain           3.200000  11.900000  \n",
      "light rain                            2.928530  12.779731  \n",
      "light rain and snow                   1.250000  15.000000  \n",
      "light shower snow                     1.181818  13.272727  \n",
      "light snow                            2.724949  11.978528  \n",
      "mist                                  2.895102  11.078288  \n",
      "moderate rain                         2.917197  12.301911  \n",
      "overcast clouds                       3.042553  12.765957  \n",
      "proximity shower rain                 2.891892  13.441441  \n",
      "proximity thunderstorm                2.894389  12.828383  \n",
      "proximity thunderstorm with drizzle   2.500000  12.166667  \n",
      "proximity thunderstorm with rain      3.222222  11.333333  \n",
      "scattered clouds                      2.986245  13.359927  \n",
      "shower drizzle                        1.666667  11.000000  \n",
      "shower snow                           4.000000   7.000000  \n",
      "sky is clear                          3.181316  12.395748  \n",
      "sleet                                 3.333333  14.000000  \n",
      "smoke                                 2.416667  13.166667  \n",
      "snow                                  2.554745  12.875912  \n",
      "thunderstorm                          3.041667  13.250000  \n",
      "thunderstorm with drizzle             5.000000  12.500000  \n",
      "thunderstorm with heavy rain          3.000000  11.920000  \n",
      "thunderstorm with light drizzle       3.333333  12.833333  \n",
      "thunderstorm with light rain          3.173913  11.869565  \n",
      "thunderstorm with rain                2.950000  12.600000  \n",
      "very heavy rain                       1.571429  11.714286  \n"
     ]
    }
   ],
   "source": [
    "by_weather_main = day.groupby('weather_main').mean()\n",
    "by_weather_description = day.groupby('weather_description').mean()\n",
    "\n",
    "print(by_weather_main)\n",
    "print(by_weather_description)"
   ]
  },
  {
   "cell_type": "code",
   "execution_count": 20,
   "metadata": {},
   "outputs": [
    {
     "data": {
      "image/png": "[encoded data removed]",
      "text/plain": [
       "<Figure size 432x288 with 1 Axes>"
      ]
     },
     "metadata": {
      "needs_background": "light"
     },
     "output_type": "display_data"
    }
   ],
   "source": [
    "by_weather_main['traffic_volume'].plot.barh()\n",
    "plt.show()"
   ]
  },
  {
   "cell_type": "markdown",
   "metadata": {},
   "source": [
    "It appears there is no weather type where traffic volume exceeds 5,000 vehicles. All of them appear to have pretty much the same traffic volume."
   ]
  },
  {
   "cell_type": "code",
   "execution_count": 21,
   "metadata": {},
   "outputs": [
    {
     "data": {
      "image/png": "[encoded data removed]",
      "text/plain": [
       "<Figure size 360x720 with 1 Axes>"
      ]
     },
     "metadata": {
      "needs_background": "light"
     },
     "output_type": "display_data"
    }
   ],
   "source": [
    "by_weather_description['traffic_volume'].plot.barh(figsize=(5, 10))\n",
    "plt.show()"
   ]
  },
  {
   "cell_type": "markdown",
   "metadata": {},
   "source": [
    "Interestingly, there are some more granular descriptons of the weather types in this dataset that appear to be affecting the traffic volume. Light rain and snow, as well as snow showers appear to have traffic volumes over 5,000 vehicles. It would be faulty to assume that this weather is actually increasing the amount of traffic on this stretch of road. Common sense clearly indicates that this can be somewhat dangerous weather and driving during this type of weather is ill advised. "
   ]
  },
  {
   "cell_type": "markdown",
   "metadata": {},
   "source": [
    "***"
   ]
  },
  {
   "cell_type": "markdown",
   "metadata": {},
   "source": [
    "## Final Conclusions\n",
    "\n",
    "Upon examining this dataset, there certainly appears to be correlations between seasonality and the amount of traffic on the road. These seasonality factors include hour of the day, day of the week, month in the year, etc. \n",
    "\n",
    "However, a strong conclusion cannot be made on whether certain weather types affect the traffic volume for this stretch of interstate. The traffic volume on the surface appears to remain constant regardless of the weather. As well, where the traffic does increase, it is linked to less than desirable driving weather, albeit some would even classify it as potentially dangerous. \n",
    "\n"
   ]
  },
  {
   "cell_type": "code",
   "execution_count": null,
   "metadata": {},
   "outputs": [],
   "source": []
  }
 ],
 "metadata": {
  "kernelspec": {
   "display_name": "Python 3 (ipykernel)",
   "language": "python",
   "name": "python3"
  },
  "language_info": {
   "codemirror_mode": {
    "name": "ipython",
    "version": 3
   },
   "file_extension": ".py",
   "mimetype": "text/x-python",
   "name": "python",
   "nbconvert_exporter": "python",
   "pygments_lexer": "ipython3",
   "version": "3.9.7"
  }
 },
 "nbformat": 4,
 "nbformat_minor": 4
}
